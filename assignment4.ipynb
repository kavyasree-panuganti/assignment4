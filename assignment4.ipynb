{
 "cells": [
  {
   "cell_type": "markdown",
   "id": "cc6e1b0f",
   "metadata": {},
   "source": [
    "# Write a Python program to create a lambda function that adds 25 to a given number passed in as an argument"
   ]
  },
  {
   "cell_type": "code",
   "execution_count": 2,
   "id": "f21403ac",
   "metadata": {},
   "outputs": [
    {
     "name": "stdout",
     "output_type": "stream",
     "text": [
      "enter the number 25\n",
      "50\n"
     ]
    }
   ],
   "source": [
    "add = lambda n : n + 25\n",
    "print(add(int(input(\"enter the number \"))))"
   ]
  },
  {
   "cell_type": "markdown",
   "id": "a269bf09",
   "metadata": {},
   "source": [
    "# Write a Python program to triple all numbers of a given list of integers. Use Python map"
   ]
  },
  {
   "cell_type": "code",
   "execution_count": 7,
   "id": "beeb00fc",
   "metadata": {},
   "outputs": [
    {
     "name": "stdout",
     "output_type": "stream",
     "text": [
      "enter the list of integers : 1 3 5\n",
      "tripled num list [3, 9, 15]\n"
     ]
    }
   ],
   "source": [
    "\n",
    "num=list(map(int,input(\"enter the list of integers : \").split()))\n",
    "print(\"tripled num list\",list(map(lambda i:i*3,num)))"
   ]
  },
  {
   "cell_type": "markdown",
   "id": "19a7f9b5",
   "metadata": {},
   "source": [
    "# Write a Python program to square the elements of a list using map() function."
   ]
  },
  {
   "cell_type": "code",
   "execution_count": 9,
   "id": "3768f67b",
   "metadata": {},
   "outputs": [
    {
     "name": "stdout",
     "output_type": "stream",
     "text": [
      "enter the original list: 1 2 3\n",
      "squared list :  [1, 4, 9]\n"
     ]
    }
   ],
   "source": [
    "def squa(i):\n",
    "    return i**2\n",
    "l=list(map(int,input(\"enter the original list: \").split(' ')))\n",
    "print(\"squared list : \",list(map(squa,l)))"
   ]
  },
  {
   "cell_type": "code",
   "execution_count": 12,
   "id": "25e3ff83",
   "metadata": {},
   "outputs": [
    {
     "name": "stdout",
     "output_type": "stream",
     "text": [
      "enter the original list: 1 2 3\n",
      "squares of given list:  [1, 4, 9]\n"
     ]
    }
   ],
   "source": [
    "#same solution using lambda\n",
    "l=list(map(int,input(\"enter the original list: \").split(' ')))\n",
    "squ = list(map(lambda x: x**2, l))\n",
    "print(\"squares of given list: \",squ)"
   ]
  },
  {
   "cell_type": "code",
   "execution_count": null,
   "id": "bac9321a",
   "metadata": {},
   "outputs": [],
   "source": []
  }
 ],
 "metadata": {
  "kernelspec": {
   "display_name": "Python 3 (ipykernel)",
   "language": "python",
   "name": "python3"
  },
  "language_info": {
   "codemirror_mode": {
    "name": "ipython",
    "version": 3
   },
   "file_extension": ".py",
   "mimetype": "text/x-python",
   "name": "python",
   "nbconvert_exporter": "python",
   "pygments_lexer": "ipython3",
   "version": "3.8.2"
  }
 },
 "nbformat": 4,
 "nbformat_minor": 5
}
